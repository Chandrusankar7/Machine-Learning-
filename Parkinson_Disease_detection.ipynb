{
 "cells": [
  {
   "cell_type": "markdown",
   "id": "cdd63034",
   "metadata": {},
   "source": [
    "# Parkinson Disease detection"
   ]
  },
  {
   "cell_type": "markdown",
   "id": "535d7a19",
   "metadata": {},
   "source": [
    "Parkinson Disease is a brain neurological disorder. It leads to shaking of the body, hands and provides stiffness to the body. No proper cure or treatment is available yet at the advanced stage. Treatment is possible only when done at the early or onset of the disease. These will not only reduce the cost of the disease but will also possibly save a life. Most methods available can detect Parkinson in an advanced stage; which means loss of approx. 60% dopamine in basal ganglia and is responsible for controlling the movement of the body with a small amount of dopamine. More than 145,000 people have been found alone suffering in the U.K and in India, almost one million population suffers from this disease and it’s spreading fast in the entire world."
   ]
  },
  {
   "cell_type": "markdown",
   "id": "400e0af5",
   "metadata": {},
   "source": [
    "Machine learning is a discipline of artificial intelligence that develops algorithms with the capacity to generalize behaviors and recognize hidden patterns in a large amount of data, defined by Arthur Samuel as the field of study that gives computers the ability to learn without being explicitly programmed. ML techniques can be classified into two categories depending on the type of processing that is carried out: symbolic processing, which uses formal languages, logical orders, and symbols, and sub symbolic processing, which is designed to estimate functional relationships between data. Within ML techniques, artificial neural networks (ANN) are those whose architecture is based in multiple-layer hierarchical models that can learn representations of data with multiple levels of abstraction. However, they require a large amount of input data and a careful training process. All these techniques are receiving increasing interest from the medical domain, where they have been mostly used in image analysis , although in recent years, their application has spread to other areas .\n",
    "\n",
    "There are a wide variety of techniques in the field of neurology that are used individually or in combination to support the clinical diagnosis. Commonly used techniques include image-based tests (single photon emission computed tomography (SPECT), M-iodobenzyl-guanidine cardiac scintiscan (MIBG), however, these are costly and are not always accessible.\n",
    "\n",
    "The analysis of EEG has already been used in other non-epileptic neurological diseases such as Alzheimer’s, schizophrenia, and major depressive disorder  and there are numerous articles that apply ML techniques to study their EEG . EEG processing using ML techniques has also been used for therapeutic purposes such as stroke rehabilitation . The use of EEG to study Parkinson’s disease has not been fully validated, but in the last 5 years, its interest has increased with the introduction of ML techniques in EEG analysis, leading to a growing development of the literature. The aim of this review consists, firstly, in evaluating the current impact of ML techniques on the EEG analysis of patients with PD, and secondly, naming the most commonly used techniques and analyzing those that have provided the best results. These objectives, focused on the diagnosis and evolution of PD, will provide an entry point for further studies seeking to determine an early, non-invasive and accessible diagnostic marker that minimizes the delay on the disease diagnosis. Hopefully, the advances in new diagnostic techniques in PD could help to detect this disease in its early stages, that is, in pre-motor stage, favouring the development of preventive therapies that slow the degree of advancement of motor and cognitive decline in PD."
   ]
  },
  {
   "cell_type": "code",
   "execution_count": 1,
   "id": "94ccf3bc",
   "metadata": {},
   "outputs": [],
   "source": [
    "import numpy as np\n",
    "import pandas as pd\n",
    "import matplotlib.pyplot as plt\n",
    "import seaborn as sns\n",
    "import sklearn as sk"
   ]
  },
  {
   "cell_type": "code",
   "execution_count": 2,
   "id": "11e7415e",
   "metadata": {},
   "outputs": [],
   "source": [
    "prk=pd.read_csv(r'''C:\\Users\\Asus\\Downloads\\parkinsons_1.csv''',encoding='cp1252')"
   ]
  },
  {
   "cell_type": "markdown",
   "id": "c0d39cd7",
   "metadata": {},
   "source": [
    "Importing models from dataset"
   ]
  },
  {
   "cell_type": "code",
   "execution_count": 3,
   "id": "a04fd63b",
   "metadata": {},
   "outputs": [],
   "source": [
    "from sklearn.model_selection import train_test_split\n",
    "from sklearn import metrics\n",
    "from sklearn import tree\n",
    "from sklearn import ensemble\n",
    "from sklearn.svm import SVC\n",
    "from sklearn.linear_model import LogisticRegression\n",
    "from sklearn.model_selection import train_test_split\n",
    "from sklearn.naive_bayes import GaussianNB\n",
    "from sklearn.neighbors import KNeighborsClassifier\n",
    "from sklearn.metrics import roc_curve, auc\n",
    "from sklearn.metrics import roc_auc_score\n",
    "from sklearn.metrics import classification_report, confusion_matrix, roc_auc_score\n",
    "from sklearn.metrics import (confusion_matrix, precision_recall_curve, auc,\n",
    "                             roc_curve, recall_score, classification_report, f1_score,\n",
    "                             precision_recall_fscore_support)"
   ]
  },
  {
   "cell_type": "code",
   "execution_count": 4,
   "id": "2726e020",
   "metadata": {},
   "outputs": [],
   "source": [
    "def acc_sensitivity_specificity(c, p): # corr, pred\n",
    "    cmatrix = confusion_matrix(c,p)\n",
    "    total = sum(sum(cmatrix))\n",
    "    accuracy=(cmatrix[0,0]+cmatrix[1,1])/total\n",
    "    spec = cmatrix[0,0]/(cmatrix[0,0]+cmatrix[0,1])\n",
    "    sens = cmatrix[1,1]/(cmatrix[1,0]+cmatrix[1,1])\n",
    "    return accuracy, sens, spec"
   ]
  },
  {
   "cell_type": "code",
   "execution_count": 5,
   "id": "13bb63e5",
   "metadata": {},
   "outputs": [
    {
     "data": {
      "text/html": [
       "<div>\n",
       "<style scoped>\n",
       "    .dataframe tbody tr th:only-of-type {\n",
       "        vertical-align: middle;\n",
       "    }\n",
       "\n",
       "    .dataframe tbody tr th {\n",
       "        vertical-align: top;\n",
       "    }\n",
       "\n",
       "    .dataframe thead th {\n",
       "        text-align: right;\n",
       "    }\n",
       "</style>\n",
       "<table border=\"1\" class=\"dataframe\">\n",
       "  <thead>\n",
       "    <tr style=\"text-align: right;\">\n",
       "      <th></th>\n",
       "      <th>id</th>\n",
       "      <th>gender</th>\n",
       "      <th>PPE</th>\n",
       "      <th>DFA</th>\n",
       "      <th>RPDE</th>\n",
       "      <th>numPulses</th>\n",
       "      <th>tqwt_kurtosisValue_dec_35</th>\n",
       "      <th>tqwt_kurtosisValue_dec_36</th>\n",
       "      <th>class</th>\n",
       "    </tr>\n",
       "  </thead>\n",
       "  <tbody>\n",
       "    <tr>\n",
       "      <th>0</th>\n",
       "      <td>0</td>\n",
       "      <td>1</td>\n",
       "      <td>0.85247</td>\n",
       "      <td>0.71826</td>\n",
       "      <td>0.57227</td>\n",
       "      <td>240</td>\n",
       "      <td>3.0004</td>\n",
       "      <td>18.9405</td>\n",
       "      <td>1</td>\n",
       "    </tr>\n",
       "    <tr>\n",
       "      <th>1</th>\n",
       "      <td>0</td>\n",
       "      <td>1</td>\n",
       "      <td>0.76686</td>\n",
       "      <td>0.69481</td>\n",
       "      <td>0.53966</td>\n",
       "      <td>234</td>\n",
       "      <td>6.3431</td>\n",
       "      <td>45.1780</td>\n",
       "      <td>1</td>\n",
       "    </tr>\n",
       "    <tr>\n",
       "      <th>2</th>\n",
       "      <td>0</td>\n",
       "      <td>1</td>\n",
       "      <td>0.85083</td>\n",
       "      <td>0.67604</td>\n",
       "      <td>0.58982</td>\n",
       "      <td>232</td>\n",
       "      <td>3.1495</td>\n",
       "      <td>4.7666</td>\n",
       "      <td>1</td>\n",
       "    </tr>\n",
       "    <tr>\n",
       "      <th>3</th>\n",
       "      <td>1</td>\n",
       "      <td>0</td>\n",
       "      <td>0.41121</td>\n",
       "      <td>0.79672</td>\n",
       "      <td>0.59257</td>\n",
       "      <td>178</td>\n",
       "      <td>6.2650</td>\n",
       "      <td>4.0603</td>\n",
       "      <td>1</td>\n",
       "    </tr>\n",
       "    <tr>\n",
       "      <th>4</th>\n",
       "      <td>1</td>\n",
       "      <td>0</td>\n",
       "      <td>0.32790</td>\n",
       "      <td>0.79782</td>\n",
       "      <td>0.53028</td>\n",
       "      <td>236</td>\n",
       "      <td>5.0559</td>\n",
       "      <td>6.1164</td>\n",
       "      <td>1</td>\n",
       "    </tr>\n",
       "    <tr>\n",
       "      <th>...</th>\n",
       "      <td>...</td>\n",
       "      <td>...</td>\n",
       "      <td>...</td>\n",
       "      <td>...</td>\n",
       "      <td>...</td>\n",
       "      <td>...</td>\n",
       "      <td>...</td>\n",
       "      <td>...</td>\n",
       "      <td>...</td>\n",
       "    </tr>\n",
       "    <tr>\n",
       "      <th>145</th>\n",
       "      <td>48</td>\n",
       "      <td>1</td>\n",
       "      <td>0.77259</td>\n",
       "      <td>0.62492</td>\n",
       "      <td>0.19559</td>\n",
       "      <td>577</td>\n",
       "      <td>3.9883</td>\n",
       "      <td>16.9370</td>\n",
       "      <td>0</td>\n",
       "    </tr>\n",
       "    <tr>\n",
       "      <th>146</th>\n",
       "      <td>48</td>\n",
       "      <td>1</td>\n",
       "      <td>0.78213</td>\n",
       "      <td>0.61626</td>\n",
       "      <td>0.17873</td>\n",
       "      <td>598</td>\n",
       "      <td>10.1016</td>\n",
       "      <td>7.5574</td>\n",
       "      <td>0</td>\n",
       "    </tr>\n",
       "    <tr>\n",
       "      <th>147</th>\n",
       "      <td>49</td>\n",
       "      <td>0</td>\n",
       "      <td>0.84982</td>\n",
       "      <td>0.56003</td>\n",
       "      <td>0.46637</td>\n",
       "      <td>488</td>\n",
       "      <td>2.6097</td>\n",
       "      <td>3.3055</td>\n",
       "      <td>0</td>\n",
       "    </tr>\n",
       "    <tr>\n",
       "      <th>148</th>\n",
       "      <td>49</td>\n",
       "      <td>0</td>\n",
       "      <td>0.85716</td>\n",
       "      <td>0.55320</td>\n",
       "      <td>0.34818</td>\n",
       "      <td>497</td>\n",
       "      <td>3.4696</td>\n",
       "      <td>4.1175</td>\n",
       "      <td>0</td>\n",
       "    </tr>\n",
       "    <tr>\n",
       "      <th>149</th>\n",
       "      <td>49</td>\n",
       "      <td>0</td>\n",
       "      <td>0.80437</td>\n",
       "      <td>0.57068</td>\n",
       "      <td>0.37610</td>\n",
       "      <td>498</td>\n",
       "      <td>2.6421</td>\n",
       "      <td>3.0220</td>\n",
       "      <td>0</td>\n",
       "    </tr>\n",
       "  </tbody>\n",
       "</table>\n",
       "<p>150 rows × 9 columns</p>\n",
       "</div>"
      ],
      "text/plain": [
       "     id  gender      PPE      DFA     RPDE  numPulses  \\\n",
       "0     0       1  0.85247  0.71826  0.57227        240   \n",
       "1     0       1  0.76686  0.69481  0.53966        234   \n",
       "2     0       1  0.85083  0.67604  0.58982        232   \n",
       "3     1       0  0.41121  0.79672  0.59257        178   \n",
       "4     1       0  0.32790  0.79782  0.53028        236   \n",
       "..   ..     ...      ...      ...      ...        ...   \n",
       "145  48       1  0.77259  0.62492  0.19559        577   \n",
       "146  48       1  0.78213  0.61626  0.17873        598   \n",
       "147  49       0  0.84982  0.56003  0.46637        488   \n",
       "148  49       0  0.85716  0.55320  0.34818        497   \n",
       "149  49       0  0.80437  0.57068  0.37610        498   \n",
       "\n",
       "     tqwt_kurtosisValue_dec_35  tqwt_kurtosisValue_dec_36  class  \n",
       "0                       3.0004                    18.9405      1  \n",
       "1                       6.3431                    45.1780      1  \n",
       "2                       3.1495                     4.7666      1  \n",
       "3                       6.2650                     4.0603      1  \n",
       "4                       5.0559                     6.1164      1  \n",
       "..                         ...                        ...    ...  \n",
       "145                     3.9883                    16.9370      0  \n",
       "146                    10.1016                     7.5574      0  \n",
       "147                     2.6097                     3.3055      0  \n",
       "148                     3.4696                     4.1175      0  \n",
       "149                     2.6421                     3.0220      0  \n",
       "\n",
       "[150 rows x 9 columns]"
      ]
     },
     "execution_count": 5,
     "metadata": {},
     "output_type": "execute_result"
    }
   ],
   "source": [
    "prk"
   ]
  },
  {
   "cell_type": "markdown",
   "id": "b5aa5e46",
   "metadata": {},
   "source": [
    "prk.info()"
   ]
  },
  {
   "cell_type": "markdown",
   "id": "ac3aa594",
   "metadata": {},
   "source": [
    "Data Split"
   ]
  },
  {
   "cell_type": "code",
   "execution_count": 7,
   "id": "481ce922",
   "metadata": {},
   "outputs": [],
   "source": [
    "prk['class']=prk['class'].interpolate()\n",
    "X = prk.drop(['class'],axis=1).values\n",
    "y = prk['class'].values\n",
    "X_train, X_test, Y_train, Y_test = train_test_split(X, y, test_size=0.25, random_state=101)"
   ]
  },
  {
   "cell_type": "markdown",
   "id": "5424c10b",
   "metadata": {},
   "source": [
    "# Naive Bayes Classifier"
   ]
  },
  {
   "cell_type": "code",
   "execution_count": 8,
   "id": "2b3ce74b",
   "metadata": {},
   "outputs": [
    {
     "name": "stdout",
     "output_type": "stream",
     "text": [
      "              precision    recall  f1-score   support\n",
      "\n",
      "           0       0.89      0.62      0.73        13\n",
      "           1       0.83      0.96      0.89        25\n",
      "\n",
      "    accuracy                           0.84        38\n",
      "   macro avg       0.86      0.79      0.81        38\n",
      "weighted avg       0.85      0.84      0.83        38\n",
      "\n",
      "Accuracy Specificity Sensitivity\n",
      "----------------------\n",
      "[[ 800  500]\n",
      " [ 100 2400]]\n"
     ]
    },
    {
     "data": {
      "image/png": "[encoded data removed]",
      "text/plain": [
       "<Figure size 432x288 with 2 Axes>"
      ]
     },
     "metadata": {
      "needs_background": "light"
     },
     "output_type": "display_data"
    }
   ],
   "source": [
    "nb_clf=GaussianNB()\n",
    "nb_clf.fit(X_train,Y_train)\n",
    "nb_clf.score(X_test,Y_test)\n",
    "\n",
    "y_predict_nb = nb_clf.predict(X_test)\n",
    "#y_test= np.argmax(y_predict_nb, axis = 0)\n",
    "nb_cm = confusion_matrix(Y_test, y_predict_nb)\n",
    "sns.heatmap(nb_cm, annot=True)\n",
    "\n",
    "print(classification_report(Y_test,y_predict_nb))\n",
    "print('Accuracy', 'Specificity', 'Sensitivity')\n",
    "print('----------------------')\n",
    "print(np.round(nb_cm,4)*100)\n",
    "\n",
    "pred_prob_nb = nb_clf.predict_proba(X_test)\n",
    "fpr_nb, tpr_nb, thresh_nb = roc_curve(Y_test, pred_prob_nb[:,1], pos_label=1)"
   ]
  },
  {
   "cell_type": "markdown",
   "id": "5ed1301f",
   "metadata": {},
   "source": [
    "# KNN Classifier"
   ]
  },
  {
   "cell_type": "code",
   "execution_count": 9,
   "id": "cff18777",
   "metadata": {},
   "outputs": [
    {
     "name": "stdout",
     "output_type": "stream",
     "text": [
      "              precision    recall  f1-score   support\n",
      "\n",
      "           0       0.54      0.54      0.54        13\n",
      "           1       0.76      0.76      0.76        25\n",
      "\n",
      "    accuracy                           0.68        38\n",
      "   macro avg       0.65      0.65      0.65        38\n",
      "weighted avg       0.68      0.68      0.68        38\n",
      "\n",
      "Accuracy Specificity Sensitivity\n",
      "----------------------\n",
      "[68.42 76.   53.85]\n"
     ]
    },
    {
     "data": {
      "image/png": "[encoded data removed]",
      "text/plain": [
       "<Figure size 432x288 with 2 Axes>"
      ]
     },
     "metadata": {
      "needs_background": "light"
     },
     "output_type": "display_data"
    }
   ],
   "source": [
    "knn_clf=KNeighborsClassifier(n_neighbors=3)\n",
    "knn_clf.fit(X_train,Y_train)\n",
    "knn_clf.score(X_test,Y_test)\n",
    "\n",
    "y_predict_knn = knn_clf.predict(X_test)\n",
    "knn_cm = confusion_matrix(Y_test, y_predict_knn)\n",
    "sns.heatmap(knn_cm, annot=True)\n",
    "\n",
    "print(classification_report(Y_test,y_predict_knn))\n",
    "knn_cm = acc_sensitivity_specificity(Y_test, y_predict_knn)\n",
    "print('Accuracy', 'Specificity', 'Sensitivity')\n",
    "print('----------------------')\n",
    "print(np.round(knn_cm,4)*100)\n",
    "\n",
    "pred_prob_knn = knn_clf.predict_proba(X_test)\n",
    "fpr_knn, tpr_knn, thresh_knn = roc_curve(Y_test, pred_prob_knn[:,1], pos_label=1)"
   ]
  },
  {
   "cell_type": "markdown",
   "id": "d14ffe4f",
   "metadata": {},
   "source": [
    "# Logistice Regression"
   ]
  },
  {
   "cell_type": "code",
   "execution_count": 10,
   "id": "ff265f98",
   "metadata": {},
   "outputs": [
    {
     "name": "stdout",
     "output_type": "stream",
     "text": [
      "              precision    recall  f1-score   support\n",
      "\n",
      "           0       1.00      0.38      0.56        13\n",
      "           1       0.76      1.00      0.86        25\n",
      "\n",
      "    accuracy                           0.79        38\n",
      "   macro avg       0.88      0.69      0.71        38\n",
      "weighted avg       0.84      0.79      0.76        38\n",
      "\n",
      "Accuracy Specificity Sensitivity\n",
      "----------------------\n",
      "[ 78.95 100.    38.46]\n"
     ]
    },
    {
     "name": "stderr",
     "output_type": "stream",
     "text": [
      "C:\\Users\\Asus\\AppData\\Local\\Programs\\Python\\Python39\\lib\\site-packages\\sklearn\\linear_model\\_logistic.py:814: ConvergenceWarning: lbfgs failed to converge (status=1):\n",
      "STOP: TOTAL NO. of ITERATIONS REACHED LIMIT.\n",
      "\n",
      "Increase the number of iterations (max_iter) or scale the data as shown in:\n",
      "    https://scikit-learn.org/stable/modules/preprocessing.html\n",
      "Please also refer to the documentation for alternative solver options:\n",
      "    https://scikit-learn.org/stable/modules/linear_model.html#logistic-regression\n",
      "  n_iter_i = _check_optimize_result(\n"
     ]
    },
    {
     "data": {
      "image/png": "[encoded data removed]",
      "text/plain": [
       "<Figure size 432x288 with 2 Axes>"
      ]
     },
     "metadata": {
      "needs_background": "light"
     },
     "output_type": "display_data"
    }
   ],
   "source": [
    "lr_clf=LogisticRegression()\n",
    "lr_clf.fit(X_train,Y_train)\n",
    "lr_clf.score(X_test,Y_test)\n",
    "\n",
    "y_predict_lr = lr_clf.predict(X_test)\n",
    "lr_cm = confusion_matrix(Y_test, y_predict_lr)\n",
    "sns.heatmap(lr_cm, annot=True)\n",
    "\n",
    "print(classification_report(Y_test,y_predict_lr))\n",
    "lr_cm = acc_sensitivity_specificity(Y_test, y_predict_lr)\n",
    "print('Accuracy', 'Specificity', 'Sensitivity')\n",
    "print('----------------------')\n",
    "print(np.round(lr_cm,4)*100)\n",
    "\n",
    "pred_prob_lr = lr_clf.predict_proba(X_test)\n",
    "fpr_lr, tpr_lr, thresh_lr = roc_curve(Y_test, pred_prob_lr[:,1], pos_label=1)"
   ]
  },
  {
   "cell_type": "markdown",
   "id": "ac0c615f",
   "metadata": {},
   "source": [
    "# SVM Linear Kernel"
   ]
  },
  {
   "cell_type": "code",
   "execution_count": 11,
   "id": "c2ff6728",
   "metadata": {},
   "outputs": [
    {
     "name": "stdout",
     "output_type": "stream",
     "text": [
      "              precision    recall  f1-score   support\n",
      "\n",
      "           0       0.86      0.46      0.60        13\n",
      "           1       0.77      0.96      0.86        25\n",
      "\n",
      "    accuracy                           0.79        38\n",
      "   macro avg       0.82      0.71      0.73        38\n",
      "weighted avg       0.80      0.79      0.77        38\n",
      "\n",
      "Accuracy Specificity Sensitivity\n",
      "----------------------\n",
      "[[ 800  500]\n",
      " [ 100 2400]]\n"
     ]
    },
    {
     "data": {
      "image/png": "[encoded data removed]",
      "text/plain": [
       "<Figure size 432x288 with 2 Axes>"
      ]
     },
     "metadata": {
      "needs_background": "light"
     },
     "output_type": "display_data"
    }
   ],
   "source": [
    "svl_clf=SVC(kernel='linear', probability = True)\n",
    "svl_clf.fit(X_train,Y_train)\n",
    "svl_clf.score(X_test,Y_test)\n",
    "\n",
    "y_predict_svl = svl_clf.predict(X_test)\n",
    "svl_cm = confusion_matrix(Y_test, y_predict_svl)\n",
    "sns.heatmap(svl_cm, annot=True)\n",
    "\n",
    "print(classification_report(Y_test,y_predict_svl))\n",
    "svl_cm = acc_sensitivity_specificity(Y_test, y_predict_svl)\n",
    "print('Accuracy', 'Specificity', 'Sensitivity')\n",
    "print('----------------------')\n",
    "print(np.round(nb_cm,4)*100)\n",
    "\n",
    "pred_prob_svl = svl_clf.predict_proba(X_test)\n",
    "fpr_svl, tpr_svl, thresh_svl = roc_curve(Y_test, pred_prob_svl[:,1], pos_label=1)"
   ]
  },
  {
   "cell_type": "markdown",
   "id": "a1ed89bb",
   "metadata": {},
   "source": [
    "# SVM Polynomial Kernel"
   ]
  },
  {
   "cell_type": "code",
   "execution_count": 12,
   "id": "554c9794",
   "metadata": {},
   "outputs": [
    {
     "name": "stdout",
     "output_type": "stream",
     "text": [
      "              precision    recall  f1-score   support\n",
      "\n",
      "           0       1.00      0.23      0.38        13\n",
      "           1       0.71      1.00      0.83        25\n",
      "\n",
      "    accuracy                           0.74        38\n",
      "   macro avg       0.86      0.62      0.60        38\n",
      "weighted avg       0.81      0.74      0.68        38\n",
      "\n",
      "Accuracy Specificity Sensitivity\n",
      "----------------------\n",
      "[[ 800  500]\n",
      " [ 100 2400]]\n"
     ]
    },
    {
     "data": {
      "image/png": "[encoded data removed]",
      "text/plain": [
       "<Figure size 432x288 with 2 Axes>"
      ]
     },
     "metadata": {
      "needs_background": "light"
     },
     "output_type": "display_data"
    }
   ],
   "source": [
    "svp_clf=SVC(kernel = 'poly',probability = True)\n",
    "svp_clf.fit(X_train,Y_train)\n",
    "svp_clf.score(X_test,Y_test)\n",
    "\n",
    "y_predict_svp = svp_clf.predict(X_test)\n",
    "svp_cm = confusion_matrix(Y_test, y_predict_svp)\n",
    "sns.heatmap(svp_cm, annot=True)\n",
    "\n",
    "print(classification_report(Y_test,y_predict_svp))\n",
    "svp_cm = acc_sensitivity_specificity(Y_test, y_predict_svp)\n",
    "print('Accuracy', 'Specificity', 'Sensitivity')\n",
    "print('----------------------')\n",
    "print(np.round(nb_cm,4)*100)\n",
    "\n",
    "pred_prob_svp = svp_clf.predict_proba(X_test)\n",
    "fpr_svp, tpr_svp, thresh_svp = roc_curve(Y_test, pred_prob_svp[:,1], pos_label=1)"
   ]
  },
  {
   "cell_type": "markdown",
   "id": "dee8d5b1",
   "metadata": {},
   "source": [
    "# SVM RBF Kernel"
   ]
  },
  {
   "cell_type": "code",
   "execution_count": 14,
   "id": "98efae22",
   "metadata": {},
   "outputs": [
    {
     "name": "stdout",
     "output_type": "stream",
     "text": [
      "              precision    recall  f1-score   support\n",
      "\n",
      "           0       1.00      0.15      0.27        13\n",
      "           1       0.69      1.00      0.82        25\n",
      "\n",
      "    accuracy                           0.71        38\n",
      "   macro avg       0.85      0.58      0.54        38\n",
      "weighted avg       0.80      0.71      0.63        38\n",
      "\n",
      "Accuracy Specificity Sensitivity\n",
      "----------------------\n",
      "[[ 800  500]\n",
      " [ 100 2400]]\n"
     ]
    },
    {
     "data": {
      "image/png": "[encoded data removed]",
      "text/plain": [
       "<Figure size 432x288 with 2 Axes>"
      ]
     },
     "metadata": {
      "needs_background": "light"
     },
     "output_type": "display_data"
    }
   ],
   "source": [
    "svr_clf=SVC(kernel = 'rbf',probability = True)\n",
    "svr_clf.fit(X_train,Y_train)\n",
    "svr_clf.score(X_test,Y_test)\n",
    "\n",
    "y_predict_svr = svr_clf.predict(X_test)\n",
    "svr_cm = confusion_matrix(Y_test, y_predict_svr)\n",
    "sns.heatmap(svr_cm, annot=True)\n",
    "\n",
    "print(classification_report(Y_test,y_predict_svr))\n",
    "svr_cm = acc_sensitivity_specificity(Y_test, y_predict_svr)\n",
    "print('Accuracy', 'Specificity', 'Sensitivity')\n",
    "print('----------------------')\n",
    "print(np.round(nb_cm,4)*100)\n",
    "\n",
    "pred_prob_svr = svr_clf.predict_proba(X_test)\n",
    "fpr_svr, tpr_svr, thresh_svr = roc_curve(Y_test, pred_prob_svr[:,1], pos_label=1)"
   ]
  },
  {
   "cell_type": "markdown",
   "id": "1d2f6afb",
   "metadata": {},
   "source": [
    "# AUC Score Calculation"
   ]
  },
  {
   "cell_type": "code",
   "execution_count": 17,
   "id": "9449f4d3",
   "metadata": {},
   "outputs": [
    {
     "name": "stdout",
     "output_type": "stream",
     "text": [
      "Area Under ROC for Naive Bayes Classifier :  0.8523076923076924\n",
      "Area Under ROC for KNN Classifier :  0.823076923076923\n",
      "Area Under ROC for Logistic Regression :  0.8492307692307692\n",
      "Area Under ROC for SVM Linear kernel :  0.8153846153846154\n",
      "Area Under ROC for SVM Polynomial kernel :  0.8615384615384615\n",
      "Area Under ROC for SVM RBF kernel :  0.8276923076923076\n"
     ]
    }
   ],
   "source": [
    "auc_score_nb = roc_auc_score(Y_test, pred_prob_nb[:,1])\n",
    "auc_score_knn = roc_auc_score(Y_test, pred_prob_knn[:,1])\n",
    "auc_score_lr = roc_auc_score(Y_test, pred_prob_lr[:,1])\n",
    "auc_score_svl = roc_auc_score(Y_test, pred_prob_svl[:,1])\n",
    "auc_score_svp = roc_auc_score(Y_test, pred_prob_svp[:,1])\n",
    "auc_score_svr = roc_auc_score(Y_test, pred_prob_svr[:,1])\n",
    "\n",
    "print('Area Under ROC for Naive Bayes Classifier : ', auc_score_nb)\n",
    "print('Area Under ROC for KNN Classifier : ', auc_score_knn)\n",
    "print('Area Under ROC for Logistic Regression : ', auc_score_lr)\n",
    "print('Area Under ROC for SVM Linear kernel : ', auc_score_svl)\n",
    "print('Area Under ROC for SVM Polynomial kernel : ', auc_score_svp)\n",
    "print('Area Under ROC for SVM RBF kernel : ', auc_score_svr)"
   ]
  },
  {
   "cell_type": "markdown",
   "id": "b12fa3cd",
   "metadata": {},
   "source": [
    "# ROC Curve"
   ]
  },
  {
   "cell_type": "code",
   "execution_count": 18,
   "id": "ca51d801",
   "metadata": {},
   "outputs": [
    {
     "data": {
      "image/png": "[encoded data removed]",
      "text/plain": [
       "<Figure size 432x288 with 1 Axes>"
      ]
     },
     "metadata": {
      "needs_background": "light"
     },
     "output_type": "display_data"
    }
   ],
   "source": [
    "random_probs = [0 for i in range(len(Y_test))]\n",
    "p_fpr, p_tpr, _ = roc_curve(Y_test, random_probs, pos_label=1)\n",
    "\n",
    "plt.plot(fpr_nb, tpr_nb, linestyle='--', label = 'Naive Bayes (AUC = %0.3f)' % (auc_score_nb))\n",
    "plt.plot(fpr_knn, tpr_knn, linestyle='--', label = 'KNN (AUC = %0.3f)' % (auc_score_knn))\n",
    "plt.plot(fpr_lr, tpr_lr, linestyle='--', label = 'Logistic Regression (AUC = %0.3f)' % (auc_score_lr))\n",
    "plt.plot(fpr_svl, tpr_svl, linestyle='--', label = 'SVM Linear Kernel (AUC = %0.3f)' % (auc_score_svl))\n",
    "plt.plot(fpr_svp, tpr_svp, linestyle='--', label = 'SVM Polynomial Kernel (AUC = %0.3f)' % (auc_score_svp))\n",
    "plt.plot(fpr_svr, tpr_svr, linestyle='--', label = 'SVM RBF Kernel (AUC = %0.3f)' % (auc_score_svr))\n",
    "\n",
    "plt.plot(p_fpr, p_tpr, linestyle='--', label = 'A random Classifier')\n",
    "plt.plot([0, 0, 1], [0, 1, 1], linestyle=':', color = 'black', label='Perfect Classifier')\n",
    "# title\n",
    "plt.title('ROC curve')\n",
    "# x label\n",
    "plt.xlabel('False Positive Rate')\n",
    "# y label\n",
    "plt.ylabel('True Positive rate')\n",
    "\n",
    "plt.legend(loc='best')\n",
    "plt.show()"
   ]
  },
  {
   "cell_type": "markdown",
   "id": "909a0bdb",
   "metadata": {},
   "source": [
    "# Conclusion"
   ]
  },
  {
   "cell_type": "markdown",
   "id": "45e40e41",
   "metadata": {},
   "source": [
    "Machine learning techniques play a fundamental role in data analysis, allowing one to obtain patterns and relationships between different classes automatically and efficiently. These techniques are increasingly being applied to EEG analysis, facilitating the use of this low-cost clinical test to detect or extract information on various neurological diseases. Despite the limited number of articles found, it can be noticed that the studies using the resting state tests to classify PD predominate, emphasizing a lack of studies using motor activation tests as well as studies focused on the progression of the disease. There is a great heterogeneity in the data provided by the articles, with a lack of clinical variables such as the use of medication during the recordings and the stage of the disease. In general, the size of the datasets considered in the studies is relatively small compared to the one usually found in the ML literature. However, the selected articles exhibited good results in the classification problem, with values higher than 90% in various studies. A further analysis of the models considered in these articles indicated that both the features introduced into the model and its architecture were essential for a good performance in predicting the classification. On the contrary, the cleaning protocol of the EEG, which was highly heterogeneous among the different studies, did not influence the results, and thus it could be omitted. Since this cleaning process is usually carried out manually, omitting it would benefit the development of an efficient and fast automatic prediction model. Finally, it should be emphasized that ML techniques have experienced significant growth in recent years, incorporating more complex models, and thus, this review and the conclusions obtained herein should be considered as a first step in the analysis of the role played by ML techniques and EEG in the study of PD."
   ]
  },
  {
   "cell_type": "code",
   "execution_count": null,
   "id": "ae246f76",
   "metadata": {},
   "outputs": [],
   "source": []
  }
 ],
 "metadata": {
  "kernelspec": {
   "display_name": "Python 3 (ipykernel)",
   "language": "python",
   "name": "python3"
  },
  "language_info": {
   "codemirror_mode": {
    "name": "ipython",
    "version": 3
   },
   "file_extension": ".py",
   "mimetype": "text/x-python",
   "name": "python",
   "nbconvert_exporter": "python",
   "pygments_lexer": "ipython3",
   "version": "3.9.7"
  }
 },
 "nbformat": 4,
 "nbformat_minor": 5
}
