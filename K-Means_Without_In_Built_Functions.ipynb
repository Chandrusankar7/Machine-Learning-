{
 "cells": [
  {
   "cell_type": "code",
   "execution_count": 1,
   "id": "72c2a5d9",
   "metadata": {},
   "outputs": [],
   "source": [
    "import numbers\n",
    "import array\n",
    "from collections.abc import Iterable\n",
    "\n",
    "import numpy as np\n",
    "from scipy import linalg\n",
    "from sklearn import utils\n",
    "import scipy.sparse as sp\n",
    "\n",
    "from sklearn.utils.validation import check_random_state, check_is_fitted"
   ]
  },
  {
   "cell_type": "code",
   "execution_count": 2,
   "id": "15b6ae13",
   "metadata": {},
   "outputs": [],
   "source": [
    "def create_blobs(\n",
    "    n_samples=100,\n",
    "    n_features=2,\n",
    "    *,\n",
    "    centers=None,\n",
    "    cluster_std=1.0,\n",
    "    center_box=(-10.0, 10.0),\n",
    "    shuffle=True,\n",
    "    random_state=None,\n",
    "    return_centers=False,\n",
    "):\n",
    "\n",
    "    generator = check_random_state(random_state)\n",
    "\n",
    "    if isinstance(n_samples, numbers.Integral):\n",
    "        # Set n_centers by looking at centers arg\n",
    "        if centers is None:\n",
    "            centers = 3\n",
    "\n",
    "        if isinstance(centers, numbers.Integral):\n",
    "            n_centers = centers\n",
    "            centers = generator.uniform(\n",
    "                center_box[0], center_box[1], size=(n_centers, n_features)\n",
    "            )\n",
    "\n",
    "        else:\n",
    "            centers = check_array(centers)\n",
    "            n_features = centers.shape[1]\n",
    "            n_centers = centers.shape[0]\n",
    "\n",
    "    else:\n",
    "        # Set n_centers by looking at [n_samples] arg\n",
    "        n_centers = len(n_samples)\n",
    "        if centers is None:\n",
    "            centers = generator.uniform(\n",
    "                center_box[0], center_box[1], size=(n_centers, n_features)\n",
    "            )\n",
    "        try:\n",
    "            assert len(centers) == n_centers\n",
    "        except TypeError as e:\n",
    "            raise ValueError(\n",
    "                \"Parameter `centers` must be array-like. Got {!r} instead\".format(\n",
    "                    centers\n",
    "                )\n",
    "            ) from e\n",
    "        except AssertionError as e:\n",
    "            raise ValueError(\n",
    "                \"Length of `n_samples` not consistent with number of \"\n",
    "                f\"centers. Got n_samples = {n_samples} and centers = {centers}\"\n",
    "            ) from e\n",
    "        else:\n",
    "            centers = check_array(centers)\n",
    "            n_features = centers.shape[1]\n",
    "\n",
    "    # stds: if cluster_std is given as list, it must be consistent\n",
    "    # with the n_centers\n",
    "    if hasattr(cluster_std, \"__len__\") and len(cluster_std) != n_centers:\n",
    "        raise ValueError(\n",
    "            \"Length of `clusters_std` not consistent with \"\n",
    "            \"number of centers. Got centers = {} \"\n",
    "            \"and cluster_std = {}\".format(centers, cluster_std)\n",
    "        )\n",
    "\n",
    "    if isinstance(cluster_std, numbers.Real):\n",
    "        cluster_std = np.full(len(centers), cluster_std)\n",
    "\n",
    "    X = []\n",
    "    y = []\n",
    "\n",
    "    if isinstance(n_samples, Iterable):\n",
    "        n_samples_per_center = n_samples\n",
    "    else:\n",
    "        n_samples_per_center = [int(n_samples // n_centers)] * n_centers\n",
    "\n",
    "        for i in range(n_samples % n_centers):\n",
    "            n_samples_per_center[i] += 1\n",
    "\n",
    "    for i, (n, std) in enumerate(zip(n_samples_per_center, cluster_std)):\n",
    "        X.append(generator.normal(loc=centers[i], scale=std, size=(n, n_features)))\n",
    "        y += [i] * n\n",
    "\n",
    "    X = np.concatenate(X)\n",
    "    y = np.array(y)\n",
    "    \n",
    "    if shuffle:\n",
    "        total_n_samples = np.sum(n_samples)\n",
    "        indices = np.arange(total_n_samples)\n",
    "        generator.shuffle(indices)\n",
    "        X = X[indices]\n",
    "        y = y[indices]\n",
    "\n",
    "    if return_centers:\n",
    "        return X, y, centers\n",
    "    else:\n",
    "        return X, y\n"
   ]
  },
  {
   "cell_type": "code",
   "execution_count": 16,
   "id": "71bdd7bb",
   "metadata": {},
   "outputs": [
    {
     "data": {
      "image/png": "[encoded data removed]",
      "text/plain": [
       "<Figure size 1000x750 with 1 Axes>"
      ]
     },
     "metadata": {
      "needs_background": "light"
     },
     "output_type": "display_data"
    }
   ],
   "source": [
    "import matplotlib.pyplot as plt\n",
    "\n",
    "X, y = create_blobs(\n",
    "   n_samples=100, n_features=2,\n",
    "   centers=2, cluster_std=0.5,\n",
    "   shuffle=True, random_state=0\n",
    ")\n",
    "\n",
    "# plot\n",
    "plt.scatter(\n",
    "   X[:, 0], X[:, 1],\n",
    "   c='white', marker='*',\n",
    "   edgecolor='black', s=50\n",
    ")\n",
    "plt.show()"
   ]
  },
  {
   "cell_type": "code",
   "execution_count": 17,
   "id": "599d6947",
   "metadata": {},
   "outputs": [],
   "source": [
    "X, y = create_blobs (n_samples=100, centers=2, random_state=101)\n",
    "m=X.shape[0]\n",
    "n=X.shape[1] \n",
    "n_iter=50\n",
    "K=2\n",
    "import random\n",
    "import numpy as np"
   ]
  },
  {
   "cell_type": "markdown",
   "id": "52a1cdb7",
   "metadata": {},
   "source": [
    "Centroid Calculation"
   ]
  },
  {
   "cell_type": "code",
   "execution_count": 18,
   "id": "13553714",
   "metadata": {},
   "outputs": [],
   "source": [
    "centroids=np.array([]).reshape(n,0)\n",
    "for k in range(K):\n",
    "    centroids=np.c_[centroids,X[random.randint(0,m-1)]]\n",
    "    output={}"
   ]
  },
  {
   "cell_type": "markdown",
   "id": "b0310694",
   "metadata": {},
   "source": [
    "Euclidean Distance Calculation"
   ]
  },
  {
   "cell_type": "code",
   "execution_count": 19,
   "id": "baf00650",
   "metadata": {},
   "outputs": [],
   "source": [
    "euclid=np.array([]).reshape(m,0)\n",
    "for k in range(K):\n",
    "       dist=np.sum((X-centroids[:,k])**2,axis=1)\n",
    "       euclid=np.c_[euclid,dist]\n",
    "minimum=np.argmin(euclid,axis=1)+1"
   ]
  },
  {
   "cell_type": "markdown",
   "id": "af26f1f2",
   "metadata": {},
   "source": [
    "Assigning Clusters and calculating mean"
   ]
  },
  {
   "cell_type": "code",
   "execution_count": 20,
   "id": "f7d15b43",
   "metadata": {},
   "outputs": [],
   "source": [
    "cent={}\n",
    "for k in range(K):\n",
    "    cent[k+1]=np.array([]).reshape(2,0)\n",
    "\n",
    "for k in range(m):\n",
    "    cent[minimum[k]]=np.c_[cent[minimum[k]],X[k]]\n",
    "for k in range(K):\n",
    "    cent[k+1]=cent[k+1].T\n",
    "\n",
    "\n",
    "for k in range(K):\n",
    "     centroids[:,k]=np.mean(cent[k+1],axis=0)"
   ]
  },
  {
   "cell_type": "markdown",
   "id": "94851d2f",
   "metadata": {},
   "source": [
    "Calculating new centers"
   ]
  },
  {
   "cell_type": "code",
   "execution_count": 21,
   "id": "b1a8bfd3",
   "metadata": {},
   "outputs": [],
   "source": [
    "for i in range(n_iter):\n",
    "      euclid=np.array([]).reshape(m,0)\n",
    "      for k in range(K):\n",
    "          dist=np.sum((X-centroids[:,k])**2,axis=1)\n",
    "          euclid=np.c_[euclid,dist]\n",
    "      C=np.argmin(euclid,axis=1)+1\n",
    "      cent={}\n",
    "      for k in range(K):\n",
    "           cent[k+1]=np.array([]).reshape(2,0)\n",
    "      for k in range(m):\n",
    "           cent[C[k]]=np.c_[cent[C[k]],X[k]]\n",
    "      for k in range(K):\n",
    "           cent[k+1]=cent[k+1].T\n",
    "      for k in range(K):\n",
    "           centroids[:,k]=np.mean(cent[k+1],axis=0)\n",
    "      final=cent"
   ]
  },
  {
   "cell_type": "code",
   "execution_count": 22,
   "id": "9cee1d27",
   "metadata": {},
   "outputs": [
    {
     "data": {
      "text/plain": [
       "Text(0.5, 1.0, 'Original Dataset')"
      ]
     },
     "execution_count": 22,
     "metadata": {},
     "output_type": "execute_result"
    },
    {
     "data": {
      "image/png": "[encoded data removed]",
      "text/plain": [
       "<Figure size 1000x750 with 1 Axes>"
      ]
     },
     "metadata": {
      "needs_background": "light"
     },
     "output_type": "display_data"
    }
   ],
   "source": [
    "plt.scatter(X[:,0],X[:,1])\n",
    "plt.rcParams.update({'figure.figsize':(10,7.5), 'figure.dpi':100})\n",
    "plt.title('Original Dataset')"
   ]
  },
  {
   "cell_type": "code",
   "execution_count": null,
   "id": "0d8ad1c8",
   "metadata": {},
   "outputs": [],
   "source": []
  }
 ],
 "metadata": {
  "kernelspec": {
   "display_name": "Python 3 (ipykernel)",
   "language": "python",
   "name": "python3"
  },
  "language_info": {
   "codemirror_mode": {
    "name": "ipython",
    "version": 3
   },
   "file_extension": ".py",
   "mimetype": "text/x-python",
   "name": "python",
   "nbconvert_exporter": "python",
   "pygments_lexer": "ipython3",
   "version": "3.9.7"
  }
 },
 "nbformat": 4,
 "nbformat_minor": 5
}
